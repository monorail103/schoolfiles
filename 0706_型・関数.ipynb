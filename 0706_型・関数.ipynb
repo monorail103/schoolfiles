{
 "cells": [
  {
   "cell_type": "code",
   "execution_count": 1,
   "metadata": {},
   "outputs": [
    {
     "name": "stdout",
     "output_type": "stream",
     "text": [
      "a=[10, 20, 30]\n",
      "b=[10, 20, 30]\n",
      "a=[10, 20, -1]\n",
      "b=[10, 20, -1]\n"
     ]
    }
   ],
   "source": [
    "a = [10,20,30]\n",
    "\n",
    "# b に a をコピー (ここがポイントです)\n",
    "b = a\n",
    "\n",
    "# a と b の内容を確認\n",
    "print(f'a={a}') # => a=[10, 20, 30]\n",
    "print(f'b={b}') # => b=[10, 20, 30]\n",
    "\n",
    "assert a == b   # a と b が「等しいこと」を念のために確認 \n",
    "\n",
    "# a の2番目の要素を変更\n",
    "a[2] = -1\n",
    "\n",
    "# a と b の内容を確認\n",
    "print(f'a={a}') # => a=[10, 20, -1]\n",
    "print(f'b={b}') # => ??? どのうような出力を得るか ???"
   ]
  }
 ],
 "metadata": {
  "kernelspec": {
   "display_name": ".env",
   "language": "python",
   "name": "python3"
  },
  "language_info": {
   "codemirror_mode": {
    "name": "ipython",
    "version": 3
   },
   "file_extension": ".py",
   "mimetype": "text/x-python",
   "name": "python",
   "nbconvert_exporter": "python",
   "pygments_lexer": "ipython3",
   "version": "3.11.0"
  },
  "orig_nbformat": 4
 },
 "nbformat": 4,
 "nbformat_minor": 2
}
