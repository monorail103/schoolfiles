{
 "cells": [
  {
   "cell_type": "code",
   "execution_count": 1,
   "metadata": {},
   "outputs": [
    {
     "name": "stdout",
     "output_type": "stream",
     "text": [
      "型確認 arr1 => <class 'list'>\n",
      "型確認 arr2 => <class 'list'>\n",
      "4\n",
      "arr2の長さ4\n"
     ]
    }
   ],
   "source": [
    "arr1 = [29, 3.14, \"円周率\", False] # 様々な型を内包することが可能\n",
    "arr2 = [[0.0, 0.1],       # 行ごとの要素数が違っていても可\n",
    "        [1.0, 1.1, 1.2],\n",
    "        [2.0],\n",
    "        [3.0, 3.1, 3.2, 3.3]]\n",
    "\n",
    "print(f'型確認 arr1 => {type(arr1)}') # 型確認 arr1 => <class 'list'>\n",
    "print(f'型確認 arr2 => {type(arr2)}') # 型確認 arr1 => <class 'list'>\n",
    "\n",
    "print(len(arr1))\n",
    "print(f'arr2の長さ{len(arr2)}')"
   ]
  },
  {
   "cell_type": "code",
   "execution_count": 9,
   "metadata": {},
   "outputs": [
    {
     "name": "stdout",
     "output_type": "stream",
     "text": [
      "31\n",
      "60\n",
      "24\n",
      "24\n"
     ]
    }
   ],
   "source": [
    "arr3 =  [[26, 38, 14, 57], # 3行4列の2次配列の初期化\n",
    "        [39, 31, 94, 63],\n",
    "        [41, 72, 65, 24]]\n",
    "a = arr3[1][1]\n",
    "print(a)\n",
    "\n",
    "arr3[0][3] = 60\n",
    "print(arr3[0][3])\n",
    "\n",
    "print(arr3[-1][-1])\n",
    "print(arr3[len(arr3)-1][len(arr3)])"
   ]
  },
  {
   "cell_type": "code",
   "execution_count": 11,
   "metadata": {},
   "outputs": [
    {
     "name": "stdout",
     "output_type": "stream",
     "text": [
      "arr4 = ['A', 'B', 'C', 'D', 'E']\n",
      "arr5 = [['A', 'B'], ['C', 'D'], ['E', 'F']]\n"
     ]
    }
   ],
   "source": [
    "arr4 = ['A','B','C']\n",
    "arr4.append('D') # 末尾に 'D' を挿入\n",
    "arr4.append('E')\n",
    "print('arr4 = ',end='')\n",
    "print(arr4) # => ['A','B','C','D','E']\n",
    "\n",
    "arr5 = []\n",
    "arr5.append(['A','B'])\n",
    "arr5.append([]) # 末尾に 空のリスト [] を挿入\n",
    "arr5[1].append('C') # 上で挿入した空リストの末尾に 'C' を挿入\n",
    "arr5[1].append('D')\n",
    "print('arr5 = ',end='')\n",
    "arr5.append(['E','F'])\n",
    "print(arr5) # =>[['A','B'], ['C','D']]"
   ]
  },
  {
   "cell_type": "code",
   "execution_count": 13,
   "metadata": {},
   "outputs": [
    {
     "name": "stdout",
     "output_type": "stream",
     "text": [
      "[[15, 25, 35, 45], [55, 65, 75], [85, 95]]\n",
      "[[30, 50, 50], [70, 50, 40]]\n"
     ]
    }
   ],
   "source": [
    "arr6 = [[10, 20, 30, 40],\n",
    "        [50, 60, 70],\n",
    "        [80, 90]]\n",
    "\n",
    "for i in range(len(arr6)):\n",
    "  for j in range(len(arr6[i])):\n",
    "    arr6[i][j] += 5\n",
    "\n",
    "print(arr6)\n",
    "\n",
    "# 演習\n",
    "arr7 = [[20,30,40],[50,40,30]]\n",
    "arr8 = [[10,20,10],[20,10,10]]\n",
    "arr9 = []\n",
    "\n",
    "for a in range(len(arr7)):\n",
    "  arr9.append([0,0,0])\n",
    "  for b in range(len(arr7[0])):\n",
    "    arr9[a][b] = arr7[a][b] + arr8[a][b]\n",
    "\n",
    "print(arr9) # => [[30, 50, 50], [70, 50, 40]]"
   ]
  },
  {
   "cell_type": "code",
   "execution_count": 14,
   "metadata": {},
   "outputs": [
    {
     "name": "stdout",
     "output_type": "stream",
     "text": [
      "[1, 2, 3, 4, 5, 6, 7, 8, 9, 10]\n",
      "[1, 2, 3]\n",
      "[3, 4, 5]\n",
      "[5, 6, 7, 8, 9, 10]\n",
      "[6, 7, 8]\n",
      "[2, 3, 4, 5, 6]\n"
     ]
    }
   ],
   "source": [
    "arr = list(range(1,11)) # rangeを使用した初期化\n",
    "print(arr) # => [1, 2, 3, 4, 5, 6, 7, 8, 9, 10]\n",
    "\n",
    "print(arr[:3])   # arr[0]からarr[3-1]までスライス\n",
    "print(arr[2:5])  # arr[2]からarr[5-1]までスライス\n",
    "print(arr[4:])   # arr[4]から末尾までスライス\n",
    "print(arr[5:5+3])  # arr[5]から要素3個をスライス\n",
    "\n",
    "print(arr[1:1+5])"
   ]
  },
  {
   "cell_type": "code",
   "execution_count": 15,
   "metadata": {},
   "outputs": [
    {
     "name": "stdout",
     "output_type": "stream",
     "text": [
      "浅いコピー\n",
      "arr10 = ['A', 20, 30]\n",
      "arr11 = ['A', 20, 30]\n",
      "深いコピー\n",
      "arr10 = [10, 20, 30]\n",
      "arr11 = ['A', 20, 30]\n"
     ]
    }
   ],
   "source": [
    "import copy\n",
    "\n",
    "arr10 = [10,20,30]\n",
    "arr11 = arr10  # 浅いコピー \n",
    "arr11[0] = 'A'\n",
    "print('浅いコピー')\n",
    "print(f'arr10 = {arr10}') # => arr10 = ['A', 20, 30] ← !!!\n",
    "print(f'arr11 = {arr11}') # => arr11 = ['A', 20, 30]\n",
    "\n",
    "# ■■ 深いコピー ■■ \n",
    "arr10 = [10,20,30]\n",
    "arr11 = copy.deepcopy(arr10)  # 深いコピー\n",
    "arr11[0] = 'A'\n",
    "print('深いコピー')\n",
    "print(f'arr10 = {arr10}') # => arr10 = [10, 20, 30] ← :D\n",
    "print(f'arr11 = {arr11}') # => arr11 = ['A', 20, 30]"
   ]
  },
  {
   "cell_type": "code",
   "execution_count": 16,
   "metadata": {},
   "outputs": [
    {
     "name": "stdout",
     "output_type": "stream",
     "text": [
      "t=(10, 20, 30)\n",
      "t=(10, 20, 30)\n"
     ]
    }
   ],
   "source": [
    "a = [10,20,30]\n",
    "t = tuple(a)\n",
    "print(f't={t}') # => t=(10, 20, 30)\n",
    "\n",
    "a[1] = 20\n",
    "print(f't={t}') # => ???"
   ]
  },
  {
   "cell_type": "code",
   "execution_count": 17,
   "metadata": {},
   "outputs": [
    {
     "name": "stdout",
     "output_type": "stream",
     "text": [
      "[[30 50 50]\n",
      " [70 50 40]]\n"
     ]
    }
   ],
   "source": [
    "import numpy as np\n",
    "\n",
    "A = np.array([[20,30,40],[50,40,30]])\n",
    "B = np.array([[10,20,10],[20,10,10]])\n",
    "\n",
    "print(A+B)"
   ]
  },
  {
   "cell_type": "code",
   "execution_count": 19,
   "metadata": {},
   "outputs": [
    {
     "name": "stdout",
     "output_type": "stream",
     "text": [
      "[[0 7]\n",
      " [7 9]]\n",
      "[[ -7   2]\n",
      " [-11   3]]\n"
     ]
    }
   ],
   "source": [
    "import numpy as np\n",
    "A = np.array([[ 1, 3],[ 2, 5]])\n",
    "B = np.array([[ 2,-1],[-3, 1]])\n",
    "\n",
    "X = 2*A-B\n",
    "print(X)\n",
    "\n",
    "Y = A@B\n",
    "print(Y)"
   ]
  },
  {
   "cell_type": "code",
   "execution_count": 25,
   "metadata": {},
   "outputs": [
    {
     "name": "stdout",
     "output_type": "stream",
     "text": [
      "[[ 0  7]\n",
      " [17  6]]\n",
      "[[  0   2  15]\n",
      " [  5  -7 -11]]\n"
     ]
    }
   ],
   "source": [
    "import numpy as np\n",
    "A = np.array([[0,1],[5,2]])\n",
    "B = np.array([[0,-1],[4,2]])\n",
    "\n",
    "print(2*(A-4*B)+3*(A+2*B))\n",
    "\n",
    "C = np.array([[2,-4,3],[1,2,-3]])\n",
    "D = np.array([[1,-3,2],[-1,-2,1],[-2,0,5]])\n",
    "\n",
    "print(C@D)"
   ]
  },
  {
   "cell_type": "code",
   "execution_count": 27,
   "metadata": {},
   "outputs": [
    {
     "name": "stdout",
     "output_type": "stream",
     "text": [
      "ndarray型の変数 a の1行0列目の値は => 2\n",
      "ndarray型の変数 a の1行0列目の値は => 2\n"
     ]
    }
   ],
   "source": [
    "import numpy as np\n",
    "\n",
    "a = np.array([[ 1, 3],[ 2, 5]])\n",
    "print(f'ndarray型の変数 a の1行0列目の値は => {a[1][0]}')\n",
    "print(f'ndarray型の変数 a の1行0列目の値は => {a[1,0]}') # 注目"
   ]
  },
  {
   "cell_type": "code",
   "execution_count": 28,
   "metadata": {},
   "outputs": [
    {
     "name": "stdout",
     "output_type": "stream",
     "text": [
      "[[0 1 2]\n",
      " [3 4 5]]\n"
     ]
    }
   ],
   "source": [
    "import numpy as np\n",
    "A = np.array([[3,4,5],[6,7,8]])\n",
    "X = A - 3 # ここでブロードキャストが適用\n",
    "print(X)"
   ]
  },
  {
   "cell_type": "code",
   "execution_count": 31,
   "metadata": {},
   "outputs": [
    {
     "name": "stdout",
     "output_type": "stream",
     "text": [
      "A+B=\n"
     ]
    },
    {
     "data": {
      "text/latex": [
       "$\\displaystyle \\left[\\begin{matrix}30 & 50 & 50\\\\70 & 50 & 40\\end{matrix}\\right]$"
      ],
      "text/plain": [
       "Matrix([\n",
       "[30, 50, 50],\n",
       "[70, 50, 40]])"
      ]
     },
     "metadata": {},
     "output_type": "display_data"
    }
   ],
   "source": [
    "import numpy as np\n",
    "import sympy as sp  # sympyをspとしてインポート\n",
    "A = np.array([[20,30,40],[50,40,30]])\n",
    "B = np.array([[10,20,10],[20,10,10]])\n",
    "X = A+B\n",
    "print('A+B=')\n",
    "display(sp.Matrix(X)) # ndarray型の行列を整形出力"
   ]
  },
  {
   "cell_type": "code",
   "execution_count": 32,
   "metadata": {},
   "outputs": [
    {
     "name": "stdout",
     "output_type": "stream",
     "text": [
      "変数 a の型は <class 'list'>\n",
      "変数 A の型は <class 'numpy.ndarray'>\n"
     ]
    }
   ],
   "source": [
    "import numpy as np\n",
    "\n",
    "a = [[1,2,3],[4,5,6]]\n",
    "print(f'変数 a の型は {type(a)}') # => 変数 a の型は <class 'list'>\n",
    "\n",
    "A = np.array(a) # a を引数に np.array() で ndarray を作成(初期化)\n",
    "print(f'変数 A の型は {type(A)}') # => 変数 A の型は <class 'numpy.ndarray'>"
   ]
  },
  {
   "cell_type": "code",
   "execution_count": 34,
   "metadata": {},
   "outputs": [
    {
     "name": "stdout",
     "output_type": "stream",
     "text": [
      "x.size => 13\n",
      "[0.   0.25 0.5  0.75 1.   1.25 1.5  1.75 2.   2.25 2.5  2.75 3.  ]\n",
      "[0.0, 0.25, 0.5, 0.75, 1.0, 1.25, 1.5, 1.75, 2.0, 2.25, 2.5, 2.75, 3.0]\n"
     ]
    }
   ],
   "source": [
    "import numpy as np\n",
    "x = np.arange(0.00,3.01,0.25)\n",
    "print(f'x.size => {x.size}')\n",
    "print(x)\n",
    "p = x.tolist()\n",
    "print(p)"
   ]
  },
  {
   "cell_type": "code",
   "execution_count": 39,
   "metadata": {},
   "outputs": [
    {
     "data": {
      "image/png": "[encoded data removed]",
      "text/plain": [
       "<Figure size 768x576 with 1 Axes>"
      ]
     },
     "metadata": {},
     "output_type": "display_data"
    }
   ],
   "source": [
    "import numpy as np\n",
    "import matplotlib.pyplot as plt  # Matplotlib の読込み\n",
    "\n",
    "x = np.linspace(-4,6,101)\n",
    "y = -x**3 + 3*x**2 + 9*x -27\n",
    "assert type(x) == np.ndarray  # x は ndarray型であることを確認\n",
    "assert type(y) == np.ndarray  # y は 〃\n",
    "\n",
    "fig,ax = plt.subplots(dpi=120)\n",
    "ax.plot(x,y)\n",
    "# ax.scatter(x,y,marker='o',s=15,alpha=0.5) # x と y を与えて丸を描画\n",
    "ax.axhline(0,c='black',lw=0.5) # y=0 に太線を描画\n",
    "ax.axvline(0,c='black',lw=0.5) # x=0 に太線を描画\n",
    "ax.grid() # グリッドの表示\n",
    "plt.show()"
   ]
  },
  {
   "cell_type": "code",
   "execution_count": 40,
   "metadata": {},
   "outputs": [
    {
     "name": "stdout",
     "output_type": "stream",
     "text": [
      "154 ms ± 3 ms per loop (mean ± std. dev. of 7 runs, 10 loops each)\n",
      "27 ms ± 237 µs per loop (mean ± std. dev. of 7 runs, 10 loops each)\n"
     ]
    }
   ],
   "source": [
    "import numpy as np\n",
    "\n",
    "q = np.random.rand(10_000_000)\n",
    "p = q.tolist()\n",
    "\n",
    "assert type(p) == list\n",
    "%timeit sum(p)/len(p)\n",
    "\n",
    "# ndarray として平均値を計算\n",
    "assert type(q) == np.ndarray \n",
    "%timeit q.mean()"
   ]
  },
  {
   "cell_type": "code",
   "execution_count": 43,
   "metadata": {},
   "outputs": [
    {
     "name": "stdout",
     "output_type": "stream",
     "text": [
      "[[ 9 12]\n",
      " [24 33]]\n"
     ]
    }
   ],
   "source": [
    "import numpy as np\n",
    "\n",
    "A = np.array([[1,2],[4,5]])\n",
    "B = np.array([[1,2],[4,5]])\n",
    "\n",
    "print(A@B)\n"
   ]
  },
  {
   "cell_type": "code",
   "execution_count": 46,
   "metadata": {},
   "outputs": [
    {
     "data": {
      "text/latex": [
       "$\\displaystyle \\left[\\begin{matrix}1 & 2\\\\4 & 5\\end{matrix}\\right]$"
      ],
      "text/plain": [
       "Matrix([\n",
       "[1, 2],\n",
       "[4, 5]])"
      ]
     },
     "metadata": {},
     "output_type": "display_data"
    },
    {
     "name": "stdout",
     "output_type": "stream",
     "text": [
      "[[ 9 12]\n",
      " [24 33]]\n"
     ]
    }
   ],
   "source": [
    "import numpy as np\n",
    "import sympy as sp\n",
    "\n",
    "A = np.array([[1,2],[4,5]])\n",
    "B = np.array([[1,2],[4,5]])\n",
    "\n",
    "display(sp.Matrix(A))\n",
    "print(np.linalg.matrix_power(A,2))"
   ]
  },
  {
   "cell_type": "code",
   "execution_count": 50,
   "metadata": {},
   "outputs": [
    {
     "name": "stdout",
     "output_type": "stream",
     "text": [
      "[1.  1.5 2.  2.5 3. ]\n",
      "[1.0, 1.5, 2.0, 2.5, 3.0]\n"
     ]
    }
   ],
   "source": [
    "import numpy as np\n",
    "A = np.linspace(1.00,3.00,5)\n",
    "print(A)\n",
    "a = A.tolist()\n",
    "print(a)"
   ]
  },
  {
   "cell_type": "code",
   "execution_count": 9,
   "metadata": {},
   "outputs": [
    {
     "data": {
      "text/plain": [
       "'list'"
      ]
     },
     "execution_count": 9,
     "metadata": {},
     "output_type": "execute_result"
    }
   ],
   "source": [
    "import numpy as np\n",
    "def slicetype(tp):\n",
    "    tp = tp[8:-2]\n",
    "    return tp\n",
    "\n",
    "a = [[1,2,3],[4,5,6]]\n",
    "b = np.array([[1,2,3],[4,5,6]])\n",
    "slicetype(str(type(a)))\n",
    "# slicetype(str(type(b)))"
   ]
  },
  {
   "cell_type": "code",
   "execution_count": 10,
   "metadata": {},
   "outputs": [
    {
     "name": "stdout",
     "output_type": "stream",
     "text": [
      "[[72 10  3]\n",
      " [18  8 15]\n",
      " [27 16  3]]\n"
     ]
    }
   ],
   "source": [
    "A = np.array([9,2,3])\n",
    "B = np.array([[8,5,1],\n",
    "              [2,4,5],\n",
    "              [3,8,1]\n",
    "              ])\n",
    "print(A*B)"
   ]
  }
 ],
 "metadata": {
  "kernelspec": {
   "display_name": ".env",
   "language": "python",
   "name": "python3"
  },
  "language_info": {
   "codemirror_mode": {
    "name": "ipython",
    "version": 3
   },
   "file_extension": ".py",
   "mimetype": "text/x-python",
   "name": "python",
   "nbconvert_exporter": "python",
   "pygments_lexer": "ipython3",
   "version": "3.11.0"
  }
 },
 "nbformat": 4,
 "nbformat_minor": 2
}
