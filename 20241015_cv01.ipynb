{
 "cells": [
  {
   "cell_type": "markdown",
   "metadata": {},
   "source": [
    "# 大前提"
   ]
  },
  {
   "cell_type": "code",
   "execution_count": 2,
   "metadata": {},
   "outputs": [
    {
     "name": "stdout",
     "output_type": "stream",
     "text": [
      "256 256 3\n"
     ]
    }
   ],
   "source": [
    "import cv2\n",
    "img = cv2.imread('img/Lenna.bmp', 1)\n",
    "\n",
    "h, w, c = img.shape\n",
    "print(h, w, c)"
   ]
  },
  {
   "cell_type": "markdown",
   "metadata": {},
   "source": [
    "## 一般"
   ]
  },
  {
   "cell_type": "markdown",
   "metadata": {},
   "source": [
    "### グレースケール"
   ]
  },
  {
   "cell_type": "code",
   "execution_count": 3,
   "metadata": {},
   "outputs": [],
   "source": [
    "dst = cv2.cvtColor(img, cv2.COLOR_RGB2GRAY)\n",
    "cv2.imshow('gray', dst)\n",
    "cv2.waitKey(0)\n",
    "cv2.destroyAllWindows()"
   ]
  },
  {
   "cell_type": "markdown",
   "metadata": {},
   "source": [
    "### 縮小"
   ]
  },
  {
   "cell_type": "code",
   "execution_count": null,
   "metadata": {},
   "outputs": [],
   "source": [
    "\n",
    "img_resize = cv2.resize(img, (200, 200), cv2.INTER_LINEAR)\n",
    "cv2.imshow('img5', img_resize)\n",
    "\n",
    "cv2.waitKey(0)\n",
    "cv2.destroyAllWindows()"
   ]
  },
  {
   "cell_type": "markdown",
   "metadata": {},
   "source": [
    "### カメラ"
   ]
  },
  {
   "cell_type": "code",
   "execution_count": 4,
   "metadata": {},
   "outputs": [
    {
     "ename": "",
     "evalue": "",
     "output_type": "error",
     "traceback": [
      "\u001b[1;31m現在のセルまたは前のセルでコードを実行中に、カーネル (Kernel) がクラッシュしました。\n",
      "\u001b[1;31mエラーの原因を特定するには、セル内のコードを確認してください。\n",
      "\u001b[1;31m詳細については<a href='https://aka.ms/vscodeJupyterKernelCrash'>こちら</a>をクリックします。\n",
      "\u001b[1;31m詳細については、Jupyter <a href='command:jupyter.viewOutput'>ログ</a> を参照してください。"
     ]
    }
   ],
   "source": [
    "cap = cv2.VideoCapture(0)\n",
    "\n",
    "while True:\n",
    "    ret, frame = cap.read()\n",
    "    cv2.imshow('frame', frame)\n",
    "    if cv2.waitKey(1) & 0xFF == ord('q'):\n",
    "        break"
   ]
  },
  {
   "cell_type": "markdown",
   "metadata": {},
   "source": [
    "### 引き伸ばし"
   ]
  },
  {
   "cell_type": "code",
   "execution_count": null,
   "metadata": {},
   "outputs": [],
   "source": [
    "# 引き伸ばし\n",
    "img_resize = cv2.resize(img, (w//2, h*2), cv2.INTER_LINEAR)\n",
    "cv2.imshow('img1', img_resize)\n",
    "img_resize = cv2.resize(img, (w*2, h//2), cv2.INTER_NEAREST)\n",
    "cv2.imshow('img', img_resize)\n",
    "\n",
    "cv2.waitKey(0)\n",
    "cv2.destroyAllWindows()"
   ]
  },
  {
   "cell_type": "markdown",
   "metadata": {},
   "source": [
    "### モザイク"
   ]
  },
  {
   "cell_type": "code",
   "execution_count": 3,
   "metadata": {},
   "outputs": [],
   "source": [
    "# モザイク\n",
    "scale = 0.2\n",
    "dst = cv2.resize(img, (round(w*scale), round(h*scale)))\n",
    "dst = cv2.resize(dst, (w, h), interpolation=cv2.INTER_NEAREST)\n",
    "cv2.imshow('mosaic', dst)\n",
    "\n",
    "cv2.waitKey(0)\n",
    "cv2.destroyAllWindows()"
   ]
  },
  {
   "cell_type": "markdown",
   "metadata": {},
   "source": [
    "## 画像データの扱い"
   ]
  },
  {
   "cell_type": "markdown",
   "metadata": {},
   "source": [
    "### グレースケール"
   ]
  },
  {
   "cell_type": "code",
   "execution_count": 4,
   "metadata": {},
   "outputs": [],
   "source": [
    "import numpy as np\n",
    "\n",
    "height = 100\n",
    "width = 200\n",
    "value = 128\n",
    "\n",
    "img1 = np.zeros((height, width, 3), np.uint8)\n",
    "img2 = np.full((height, width, 3), value, np.uint8)\n",
    "cv2.imshow('img1', img1)\n",
    "cv2.imshow('img2', img2)\n",
    "\n",
    "cv2.waitKey(0)\n",
    "cv2.destroyAllWindows()"
   ]
  },
  {
   "cell_type": "markdown",
   "metadata": {},
   "source": [
    "### カラー画像"
   ]
  },
  {
   "cell_type": "code",
   "execution_count": 5,
   "metadata": {},
   "outputs": [],
   "source": [
    "height = 100\n",
    "width = 200\n",
    "channel = 3\n",
    "\n",
    "value1 = (0, 128, 255)\n",
    "value2 = (255, 128, 0)\n",
    "\n",
    "img1 = np.full((height, width, channel), value1, np.uint8)\n",
    "img2 = np.full((height, width, channel), value2, np.uint8)\n",
    "\n",
    "cv2.imshow('img1', img1)\n",
    "cv2.imshow('img2', img2)\n",
    "\n",
    "cv2.waitKey(0)\n",
    "cv2.destroyAllWindows()"
   ]
  },
  {
   "cell_type": "markdown",
   "metadata": {},
   "source": [
    "### PGM編集"
   ]
  },
  {
   "cell_type": "code",
   "execution_count": 18,
   "metadata": {},
   "outputs": [],
   "source": [
    "img = cv2.imread('random_image.pgm', 1)\n",
    "cv2.imshow('img', img)\n",
    "cv2.waitKey(0)\n",
    "cv2.destroyAllWindows()"
   ]
  },
  {
   "cell_type": "code",
   "execution_count": 19,
   "metadata": {},
   "outputs": [],
   "source": [
    "img[20:400, 30:400] = 0\n",
    "cv2.imshow('img', img)\n",
    "cv2.waitKey(0)\n",
    "cv2.destroyAllWindows()"
   ]
  },
  {
   "cell_type": "markdown",
   "metadata": {},
   "source": [
    "### トリミング"
   ]
  },
  {
   "cell_type": "code",
   "execution_count": 11,
   "metadata": {},
   "outputs": [],
   "source": [
    "img = cv2.imread('img/Lenna.bmp', 1)\n",
    "h, w, c = img.shape\n",
    "dist = img[20:h-20, 30:w-30]\n",
    "cv2.imwrite('dist.png', dist)\n",
    "cv2.imshow('dist', dist)\n",
    "cv2.waitKey(0)\n",
    "cv2.destroyAllWindows()"
   ]
  },
  {
   "cell_type": "markdown",
   "metadata": {},
   "source": [
    "### 円を書く"
   ]
  },
  {
   "cell_type": "code",
   "execution_count": 13,
   "metadata": {},
   "outputs": [],
   "source": [
    "cv2.circle(img, (100, 100), 20, (0, 0, 255), -1)\n",
    "cv2.circle(img, (150, 150), 20, (0, 255, 255), 2)\n",
    "cv2.circle(img, (100, 100), 20, (0, 0, 255), 6)\n",
    "cv2.imshow('img', img)\n",
    "cv2.waitKey(0)\n",
    "cv2.destroyAllWindows()\n"
   ]
  },
  {
   "cell_type": "markdown",
   "metadata": {},
   "source": [
    "### 文字を書く"
   ]
  },
  {
   "cell_type": "code",
   "execution_count": 14,
   "metadata": {},
   "outputs": [],
   "source": [
    "# タイトルいれる\n",
    "cv2.putText(img, 'Aerial.bmp', (10, 30), cv2.FONT_HERSHEY_SIMPLEX, 1, (255, 255, 255), 2, cv2.LINE_AA)\n",
    "cv2.imshow('image', img)\n",
    "cv2.waitKey(0)\n",
    "cv2.destroyAllWindows()"
   ]
  },
  {
   "cell_type": "markdown",
   "metadata": {},
   "source": [
    "### 線"
   ]
  },
  {
   "cell_type": "code",
   "execution_count": 16,
   "metadata": {},
   "outputs": [],
   "source": [
    "cv2.line(img, (0, 0), (100, 100), (0, 0, 255), 2)\n",
    "cv2.rectangle(img, (100, 100), (200, 200), (0, 255, 0), 3)\n",
    "cv2.imshow('image', img)\n",
    "cv2.waitKey(0)\n",
    "cv2.destroyAllWindows()"
   ]
  },
  {
   "cell_type": "markdown",
   "metadata": {},
   "source": [
    "### 赤色だけ"
   ]
  },
  {
   "cell_type": "code",
   "execution_count": 17,
   "metadata": {},
   "outputs": [],
   "source": [
    "red = img.copy()\n",
    "red[:, :, 0] = 0\n",
    "red[:, :, 1] = 0\n",
    "cv2.imshow('red', red)\n",
    "cv2.waitKey(0)\n",
    "cv2.destroyAllWindows()"
   ]
  },
  {
   "cell_type": "markdown",
   "metadata": {},
   "source": [
    "## 濃淡処理"
   ]
  },
  {
   "cell_type": "markdown",
   "metadata": {},
   "source": [
    "### 折れ線型"
   ]
  },
  {
   "cell_type": "code",
   "execution_count": 2,
   "metadata": {},
   "outputs": [
    {
     "data": {
      "image/png": "[encoded data removed]",
      "text/plain": [
       "<Figure size 640x480 with 2 Axes>"
      ]
     },
     "metadata": {},
     "output_type": "display_data"
    }
   ],
   "source": [
    "%reset -f\n",
    "\n",
    "import cv2\n",
    "import numpy as np\n",
    "import matplotlib.pyplot as plt\n",
    "\n",
    "def oresen(k):\n",
    "    curve = k * np.arange(0,256)\n",
    "    curve = curve.clip(0,255)\n",
    "    return curve.astype(np.uint8)\n",
    "\n",
    "src = cv2.imread('img/Lenna.bmp', 0)\n",
    "cv2.imshow(\"src\", src)\n",
    "curve1 = oresen(0.5)\n",
    "dst = cv2.LUT(src, curve1)\n",
    "cv2.imshow(\"dst 0.5\", dst)\n",
    "curve2 = oresen(2)\n",
    "dst = cv2.LUT(src, curve2)\n",
    "cv2.imshow(\"dst 2\", dst)\n",
    "\n",
    "plt.subplot(121)\n",
    "plt.plot(curve1), plt.title(\"k=0.5\")\n",
    "plt.subplot(122)\n",
    "plt.plot(curve2), plt.title(\"k=2\")\n",
    "plt.show()\n",
    "cv2.waitKey(0)\n",
    "cv2.destroyAllWindows()"
   ]
  }
 ],
 "metadata": {
  "kernelspec": {
   "display_name": ".env",
   "language": "python",
   "name": "python3"
  },
  "language_info": {
   "codemirror_mode": {
    "name": "ipython",
    "version": 3
   },
   "file_extension": ".py",
   "mimetype": "text/x-python",
   "name": "python",
   "nbconvert_exporter": "python",
   "pygments_lexer": "ipython3",
   "version": "3.11.6"
  }
 },
 "nbformat": 4,
 "nbformat_minor": 2
}
