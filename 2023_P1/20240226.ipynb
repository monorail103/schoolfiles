{
 "cells": [
  {
   "cell_type": "code",
   "execution_count": 2,
   "metadata": {},
   "outputs": [
    {
     "name": "stdout",
     "output_type": "stream",
     "text": [
      "設定ファイル user-setting.pickle が存在しません。\n",
      "プログラムの実行フローが最後まで到達しました。\n"
     ]
    }
   ],
   "source": [
    "import os\n",
    "import pickle\n",
    "\n",
    "# 設定ファイルを読込む処理\n",
    "def load_user_setting():\n",
    "\n",
    "  fn = 'user-setting.pickle'\n",
    "\n",
    "  # 通常のエラー処理 (事前検証)\n",
    "  if not os.path.isfile(fn) :\n",
    "    print(f'設定ファイル {fn} が存在しません。')\n",
    "    return None\n",
    "  \n",
    "  # 例外処理 (try-except構文) によるエラー処理\n",
    "  try : \n",
    "    with open(fn,'rb') as file:\n",
    "      us = pickle.load(file)\n",
    "    return us\n",
    "  except Exception as e:\n",
    "    print(f'設定ファイル {fn} の読み込みに失敗しました。')\n",
    "    print(f'詳細 => {type(e)} {e}')\n",
    "    return None\n",
    "\n",
    "# 設定の読み込み\n",
    "user_setting = load_user_setting()\n",
    "print('プログラムの実行フローが最後まで到達しました。')"
   ]
  },
  {
   "cell_type": "code",
   "execution_count": 3,
   "metadata": {},
   "outputs": [
    {
     "ename": "FileNotFoundError",
     "evalue": "[Errno 2] No such file or directory: 'user-setting.pickle'",
     "output_type": "error",
     "traceback": [
      "\u001b[1;31m---------------------------------------------------------------------------\u001b[0m",
      "\u001b[1;31mFileNotFoundError\u001b[0m                         Traceback (most recent call last)",
      "Cell \u001b[1;32mIn[3], line 10\u001b[0m\n\u001b[0;32m      7\u001b[0m     us \u001b[38;5;241m=\u001b[39m pickle\u001b[38;5;241m.\u001b[39mload(file)\n\u001b[0;32m      8\u001b[0m   \u001b[38;5;28;01mreturn\u001b[39;00m us\n\u001b[1;32m---> 10\u001b[0m user_setting \u001b[38;5;241m=\u001b[39m \u001b[43mload_user_setting\u001b[49m\u001b[43m(\u001b[49m\u001b[43m)\u001b[49m\n\u001b[0;32m     11\u001b[0m \u001b[38;5;28mprint\u001b[39m(\u001b[38;5;124m'\u001b[39m\u001b[38;5;124mプログラムの実行フローが最後まで到達しました。\u001b[39m\u001b[38;5;124m'\u001b[39m)\n",
      "Cell \u001b[1;32mIn[3], line 6\u001b[0m, in \u001b[0;36mload_user_setting\u001b[1;34m()\u001b[0m\n\u001b[0;32m      3\u001b[0m \u001b[38;5;28;01mdef\u001b[39;00m \u001b[38;5;21mload_user_setting\u001b[39m():\n\u001b[0;32m      5\u001b[0m   fn \u001b[38;5;241m=\u001b[39m \u001b[38;5;124m'\u001b[39m\u001b[38;5;124muser-setting.pickle\u001b[39m\u001b[38;5;124m'\u001b[39m\n\u001b[1;32m----> 6\u001b[0m   \u001b[38;5;28;01mwith\u001b[39;00m \u001b[38;5;28;43mopen\u001b[39;49m\u001b[43m(\u001b[49m\u001b[43mfn\u001b[49m\u001b[43m,\u001b[49m\u001b[43m \u001b[49m\u001b[38;5;124;43m'\u001b[39;49m\u001b[38;5;124;43mrb\u001b[39;49m\u001b[38;5;124;43m'\u001b[39;49m\u001b[43m)\u001b[49m \u001b[38;5;28;01mas\u001b[39;00m file:\n\u001b[0;32m      7\u001b[0m     us \u001b[38;5;241m=\u001b[39m pickle\u001b[38;5;241m.\u001b[39mload(file)\n\u001b[0;32m      8\u001b[0m   \u001b[38;5;28;01mreturn\u001b[39;00m us\n",
      "File \u001b[1;32mc:\\Users\\daban\\Documents\\schoolfiles\\.env\\Lib\\site-packages\\IPython\\core\\interactiveshell.py:310\u001b[0m, in \u001b[0;36m_modified_open\u001b[1;34m(file, *args, **kwargs)\u001b[0m\n\u001b[0;32m    303\u001b[0m \u001b[38;5;28;01mif\u001b[39;00m file \u001b[38;5;129;01min\u001b[39;00m {\u001b[38;5;241m0\u001b[39m, \u001b[38;5;241m1\u001b[39m, \u001b[38;5;241m2\u001b[39m}:\n\u001b[0;32m    304\u001b[0m     \u001b[38;5;28;01mraise\u001b[39;00m \u001b[38;5;167;01mValueError\u001b[39;00m(\n\u001b[0;32m    305\u001b[0m         \u001b[38;5;124mf\u001b[39m\u001b[38;5;124m\"\u001b[39m\u001b[38;5;124mIPython won\u001b[39m\u001b[38;5;124m'\u001b[39m\u001b[38;5;124mt let you open fd=\u001b[39m\u001b[38;5;132;01m{\u001b[39;00mfile\u001b[38;5;132;01m}\u001b[39;00m\u001b[38;5;124m by default \u001b[39m\u001b[38;5;124m\"\u001b[39m\n\u001b[0;32m    306\u001b[0m         \u001b[38;5;124m\"\u001b[39m\u001b[38;5;124mas it is likely to crash IPython. If you know what you are doing, \u001b[39m\u001b[38;5;124m\"\u001b[39m\n\u001b[0;32m    307\u001b[0m         \u001b[38;5;124m\"\u001b[39m\u001b[38;5;124myou can use builtins\u001b[39m\u001b[38;5;124m'\u001b[39m\u001b[38;5;124m open.\u001b[39m\u001b[38;5;124m\"\u001b[39m\n\u001b[0;32m    308\u001b[0m     )\n\u001b[1;32m--> 310\u001b[0m \u001b[38;5;28;01mreturn\u001b[39;00m \u001b[43mio_open\u001b[49m\u001b[43m(\u001b[49m\u001b[43mfile\u001b[49m\u001b[43m,\u001b[49m\u001b[43m \u001b[49m\u001b[38;5;241;43m*\u001b[39;49m\u001b[43margs\u001b[49m\u001b[43m,\u001b[49m\u001b[43m \u001b[49m\u001b[38;5;241;43m*\u001b[39;49m\u001b[38;5;241;43m*\u001b[39;49m\u001b[43mkwargs\u001b[49m\u001b[43m)\u001b[49m\n",
      "\u001b[1;31mFileNotFoundError\u001b[0m: [Errno 2] No such file or directory: 'user-setting.pickle'"
     ]
    }
   ],
   "source": [
    "import pickle\n",
    "\n",
    "def load_user_setting():\n",
    "\n",
    "  fn = 'user-setting.pickle'\n",
    "  with open(fn, 'rb') as file:\n",
    "    us = pickle.load(file)\n",
    "  return us\n",
    "\n",
    "user_setting = load_user_setting()\n",
    "print('プログラムの実行フローが最後まで到達しました。')"
   ]
  },
  {
   "cell_type": "code",
   "execution_count": 4,
   "metadata": {},
   "outputs": [
    {
     "name": "stdout",
     "output_type": "stream",
     "text": [
      "0:小学生  1:中学生  2:高校生  3:高専生  4:大学生  \n",
      "\n",
      "区分「高専生」が選択されました。\n"
     ]
    }
   ],
   "source": [
    "def get_student_type():\n",
    "  s_arr = ['小学生', '中学生', '高校生', '高専生', '大学生']\n",
    "  for i, v in enumerate(s_arr):\n",
    "    print(f'{i}:{v}  ', end='')\n",
    "  print()\n",
    "\n",
    "  while True:\n",
    "    x = input(f'区分番号(0～{len(s_arr)-1})を入力してください => ')\n",
    "\n",
    "    if x.isdigit():\n",
    "      n = int(x)\n",
    "      if 0 <= n <= len(s_arr) - 1:\n",
    "        return s_arr[n]\n",
    "\n",
    "    print('\\n不正な値が入力されました。やり直してください。')\n",
    "\n",
    "st = get_student_type()\n",
    "print(f'\\n区分「{st}」が選択されました。')"
   ]
  },
  {
   "cell_type": "code",
   "execution_count": 5,
   "metadata": {},
   "outputs": [
    {
     "name": "stdout",
     "output_type": "stream",
     "text": [
      "0:小学生  1:中学生  2:高校生  3:高専生  4:大学生  \n",
      "\n",
      "不正な値が入力されました。やり直してください。\n",
      "\n",
      "区分「高校生」が選択されました。\n"
     ]
    }
   ],
   "source": [
    "%reset -f\n",
    "def get_student_type():\n",
    "  s_arr = ['小学生', '中学生', '高校生', '高専生', '大学生']\n",
    "  for i, v in enumerate(s_arr):\n",
    "    print(f'{i}:{v}  ', end='')\n",
    "  print()\n",
    "\n",
    "  while True:\n",
    "    x = input(f'区分番号(0～{len(s_arr)-1})を入力してください => ')\n",
    "    try:\n",
    "      return s_arr[int(x)]\n",
    "    except Exception as e:\n",
    "      print('\\n不正な値が入力されました。やり直してください。')\n",
    "\n",
    "st = get_student_type()\n",
    "print(f'\\n区分「{st}」が選択されました。')"
   ]
  },
  {
   "cell_type": "code",
   "execution_count": 6,
   "metadata": {},
   "outputs": [
    {
     "name": "stdout",
     "output_type": "stream",
     "text": [
      "処理中..............................処理を中断しますか? Y/[N] => ..............."
     ]
    }
   ],
   "source": [
    "import time\n",
    "print('処理中', end='')\n",
    "while True:\n",
    "  try:\n",
    "    time.sleep(0.5)\n",
    "    print('.', end='')\n",
    "  except KeyboardInterrupt:\n",
    "    print('処理を中断しますか? Y/[N] => ', end='')\n",
    "    if input() == 'Y':\n",
    "      break\n",
    "print('プログラムの実行フローが最後まで到達しました。')"
   ]
  },
  {
   "cell_type": "code",
   "execution_count": 17,
   "metadata": {},
   "outputs": [
    {
     "data": {
      "text/plain": [
       "int"
      ]
     },
     "execution_count": 17,
     "metadata": {},
     "output_type": "execute_result"
    }
   ],
   "source": [
    "%reset -f\n",
    "from icecream import ic\n",
    "\n",
    "ic.configureOutput(prefix='[DEBUG] ')\n",
    "\n",
    "a = 10\n",
    "b = 40\n",
    "\n",
    "ic(a)\n",
    "ic(a*b)\n",
    "ic(type(a))\n",
    "\n"
   ]
  }
 ],
 "metadata": {
  "kernelspec": {
   "display_name": ".env",
   "language": "python",
   "name": "python3"
  },
  "language_info": {
   "codemirror_mode": {
    "name": "ipython",
    "version": 3
   },
   "file_extension": ".py",
   "mimetype": "text/x-python",
   "name": "python",
   "nbconvert_exporter": "python",
   "pygments_lexer": "ipython3",
   "version": "3.11.6"
  }
 },
 "nbformat": 4,
 "nbformat_minor": 2
}
