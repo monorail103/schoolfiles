{
 "cells": [
  {
   "cell_type": "markdown",
   "metadata": {},
   "source": [
    "# 三回目"
   ]
  },
  {
   "cell_type": "code",
   "execution_count": 1,
   "metadata": {},
   "outputs": [],
   "source": [
    "import cv2\n",
    "import numpy as np\n",
    "import math\n",
    "import matplotlib.pyplot as plt"
   ]
  },
  {
   "cell_type": "code",
   "execution_count": 2,
   "metadata": {},
   "outputs": [],
   "source": [
    "img = cv2.imread(\"image02/noise_mono.jpg\")"
   ]
  },
  {
   "cell_type": "markdown",
   "metadata": {},
   "source": [
    "## 膨張・収縮処理"
   ]
  },
  {
   "cell_type": "markdown",
   "metadata": {},
   "source": [
    "### 膨張と収縮"
   ]
  },
  {
   "cell_type": "code",
   "execution_count": 10,
   "metadata": {},
   "outputs": [],
   "source": [
    "element8 = np.array([[1,1,1], [1,1,1], [1,1,1]], np.uint8)\n",
    "dst1 = cv2.dilate(img, element8, iterations=1)\n",
    "dst2 = cv2.erode(img, element8, iterations=1)\n",
    "\n",
    "cv2.imshow(\"Original\", img)\n",
    "cv2.imshow(\"Dilate\", dst1)\n",
    "cv2.imshow(\"Erode\", dst2)\n",
    "cv2.waitKey(0)\n",
    "cv2.destroyAllWindows()"
   ]
  },
  {
   "cell_type": "markdown",
   "metadata": {},
   "source": [
    "### モルフォロジー処理"
   ]
  },
  {
   "cell_type": "code",
   "execution_count": 11,
   "metadata": {},
   "outputs": [],
   "source": [
    "element4 = np.array([[0,1,0], [1,1,1], [0,1,0]], np.uint8)\n",
    "dst1 = cv2.morphologyEx(img, cv2.MORPH_BLACKHAT, element4, iterations = 1)\n",
    "dst2 = cv2.morphologyEx(img, cv2.MORPH_CLOSE, element4, iterations = 1)\n",
    "dst3 = cv2.morphologyEx(dst1, cv2.MORPH_CLOSE, element4, iterations = 1)\n",
    "\n",
    "cv2.imshow(\"Original\", img)\n",
    "cv2.imshow(\"Dilate\", dst1)\n",
    "cv2.imshow(\"Erode\", dst2)\n",
    "cv2.imshow(\"Erode->Dilate\", dst3)\n",
    "\n",
    "cv2.waitKey(0)\n",
    "cv2.destroyAllWindows()"
   ]
  },
  {
   "cell_type": "markdown",
   "metadata": {},
   "source": [
    "## フィルタ処理"
   ]
  },
  {
   "cell_type": "markdown",
   "metadata": {},
   "source": [
    "### 平滑化"
   ]
  },
  {
   "cell_type": "code",
   "execution_count": 12,
   "metadata": {},
   "outputs": [],
   "source": [
    "dst1 = cv2.blur(img, (3,3))\n",
    "dst1 = cv2.blur(img, (7,7))\n",
    "cv2.imshow(\"dst 3x3\", dst1)\n",
    "cv2.imshow(\"dst 7x7\", dst2)\n",
    "\n",
    "cv2.waitKey(0)\n",
    "cv2.destroyAllWindows()"
   ]
  },
  {
   "cell_type": "markdown",
   "metadata": {},
   "source": [
    "### ガウシアン"
   ]
  },
  {
   "cell_type": "code",
   "execution_count": 16,
   "metadata": {},
   "outputs": [],
   "source": [
    "dst1 = cv2.GaussianBlur(img, (3,3), 3)\n",
    "dst1 = cv2.GaussianBlur(img, (7,7), 3)\n",
    "cv2.imshow(\"dst 3x3 s=3\", dst1)\n",
    "cv2.imshow(\"dst 7x7 s=3\", dst2)\n",
    "\n",
    "cv2.waitKey(0)\n",
    "cv2.destroyAllWindows()"
   ]
  },
  {
   "cell_type": "markdown",
   "metadata": {},
   "source": [
    "### メディアンフィルタ"
   ]
  },
  {
   "cell_type": "code",
   "execution_count": 17,
   "metadata": {},
   "outputs": [],
   "source": [
    "dst1 = cv2.medianBlur(img, 3)\n",
    "dst1 = cv2.medianBlur(img, 9)\n",
    "\n",
    "cv2.imshow(\"dst 3x3\", dst1)\n",
    "cv2.imshow(\"dst 9x9\", dst2)\n",
    "\n",
    "cv2.waitKey(0)\n",
    "cv2.destroyAllWindows()"
   ]
  },
  {
   "cell_type": "markdown",
   "metadata": {},
   "source": [
    "## エッジ検出"
   ]
  },
  {
   "cell_type": "markdown",
   "metadata": {},
   "source": [
    "### ソーベルフィルタ"
   ]
  },
  {
   "cell_type": "code",
   "execution_count": 18,
   "metadata": {},
   "outputs": [],
   "source": [
    "dstX = cv2.Sobel(img, -1, 1, 0)\n",
    "dstY = cv2.Sobel(img, -1, 0, 1)\n",
    "dstXY = cv2.add(dstX, dstY)\n",
    "\n",
    "cv2.imshow(\"dstX\", dstX)\n",
    "cv2.imshow(\"dstY\", dstY)\n",
    "cv2.imshow(\"dstXY\", dstXY)\n",
    "\n",
    "cv2.waitKey(0)\n",
    "cv2.destroyAllWindows()"
   ]
  },
  {
   "cell_type": "markdown",
   "metadata": {},
   "source": [
    "### ラプラシアンフィルタ"
   ]
  },
  {
   "cell_type": "code",
   "execution_count": 19,
   "metadata": {},
   "outputs": [],
   "source": [
    "dst = cv2.Laplacian(img, -1)\n",
    "cv2.imshow(\"dst\", dst)\n",
    "\n",
    "cv2.waitKey(0)\n",
    "cv2.destroyAllWindows()"
   ]
  },
  {
   "cell_type": "markdown",
   "metadata": {},
   "source": [
    "### Canny"
   ]
  },
  {
   "cell_type": "code",
   "execution_count": 21,
   "metadata": {},
   "outputs": [],
   "source": [
    "src = cv2.imread(\"img/Pepper.bmp\")\n",
    "cv2.imshow(\"src\", src)\n",
    "gray = cv2.cvtColor(src, cv2.COLOR_BGR2GRAY)\n",
    "cv2.imshow(\"gray\", gray)\n",
    "dst_c = cv2.Canny(src, 80, 200)\n",
    "dst_g80 = cv2.Canny(gray, 80, 200)\n",
    "dst_g40 = cv2.Canny(gray, 40, 200)\n",
    "\n",
    "cv2.imshow(\"dst_c\", dst_c)\n",
    "cv2.imshow(\"dst_g80\", dst_g80)\n",
    "cv2.imshow(\"dst_g40\", dst_g40)\n",
    "\n",
    "cv2.waitKey(0)\n",
    "cv2.destroyAllWindows()"
   ]
  },
  {
   "cell_type": "markdown",
   "metadata": {},
   "source": [
    "## 画像解析"
   ]
  },
  {
   "cell_type": "code",
   "execution_count": 26,
   "metadata": {},
   "outputs": [],
   "source": [
    "img = cv2.imread(\"image02/crescent.png\", 0)"
   ]
  },
  {
   "cell_type": "markdown",
   "metadata": {},
   "source": [
    "### 外接長方形"
   ]
  },
  {
   "cell_type": "code",
   "execution_count": null,
   "metadata": {},
   "outputs": [],
   "source": [
    "x, y, w, h = cv2.boundingRect(img)\n",
    "aspect_ratio = float(h)/w\n",
    "\n",
    "print(\"Aspect ratio: \", aspect_ratio)\n",
    "\n",
    "cv2.rectangle(img, (x,y), (x+w, y+h), 170)\n",
    "cv2.imshow(\"img\", img)\n",
    "\n",
    "cv2.waitKey(0)\n",
    "cv2.destroyAllWindows()"
   ]
  },
  {
   "cell_type": "markdown",
   "metadata": {},
   "source": [
    "### 面積。周囲長。円形度\n",
    "\n",
    "  - 面積: 白い画素の数を数える\n",
    "  - 円形度: どれだけ円に近いか"
   ]
  },
  {
   "cell_type": "code",
   "execution_count": null,
   "metadata": {},
   "outputs": [],
   "source": [
    "contours, hirearchy = cv2.findContours(img, cv2.RETR_EXTERNAL, cv2.CHAIN_APPROX_SIMPLE)\n",
    "area = cv2.contourArea(contours[0])\n",
    "perimeter = cv2.arcLength(np.array(contours[0]), True)\n",
    "roundness = 4*np.pi*area/(perimeter*perimeter)\n",
    "print(\"area:\" , area)\n",
    "print(\"perimeter:\", perimeter)\n",
    "print(\"roundness:\", roundness)"
   ]
  },
  {
   "cell_type": "markdown",
   "metadata": {},
   "source": [
    "### 重心、主軸角度\n",
    "\n",
    "  - 主軸: 最も安定して物体を回転させることができる軸"
   ]
  },
  {
   "cell_type": "code",
   "execution_count": 33,
   "metadata": {},
   "outputs": [],
   "source": [
    "img = cv2.imread(\"image02/crescent.png\", 0)"
   ]
  },
  {
   "cell_type": "code",
   "execution_count": null,
   "metadata": {},
   "outputs": [],
   "source": [
    "h, w = img.shape\n",
    "print(\"h:\", h, \"w:\", w)\n",
    "\n",
    "m = cv2.moments(img)\n",
    "x_g = m['m10']/m['m00']\n",
    "y_g = m['m01']/m['m00']\n",
    "ang = 0.5 * math.atan2(2.0 * m['mu11'], m['mu20']-m['mu02'])\n",
    "\n",
    "print(\"x_g:\", x_g)\n",
    "print(\"y_g:\", y_g)\n",
    "print(\"angle:\", math.degrees(ang))\n",
    "cv2.line(img, (int(x_g - 500 * math.cos(ang)), int(y_g - 500 * math.sin(ang))), (int(x_g + 500 * math.cos(ang)), int(y_g + 500 * math.sin(ang))), 170)\n",
    "cv2.imshow(\"img\", img)\n",
    "\n",
    "cv2.waitKey(0)\n",
    "cv2.destroyAllWindows()"
   ]
  },
  {
   "cell_type": "markdown",
   "metadata": {},
   "source": [
    "### ラベリング"
   ]
  },
  {
   "cell_type": "code",
   "execution_count": 5,
   "metadata": {},
   "outputs": [],
   "source": [
    "img = cv2.imread(\"image02/labeling.png\", 0)"
   ]
  },
  {
   "cell_type": "code",
   "execution_count": null,
   "metadata": {},
   "outputs": [],
   "source": [
    "num_lab, img_lab = cv2.connectedComponents(img)\n",
    "print(\"number of labels:\", num_lab)\n",
    "dst1 = cv2.compare(img_lab, 1, cv2.CMP_EQ)\n",
    "dst2 = cv2.compare(img_lab, 20, cv2.CMP_EQ)\n",
    "cv2.putText(dst1, \"label 1\", (10, 100), cv2.FONT_HERSHEY_SIMPLEX, 1, 255)\n",
    "cv2.imshow(\"img\", img)\n",
    "cv2.imshow(\"dst1\", dst1)\n",
    "cv2.imshow(\"dst2\", dst2)\n",
    "\n",
    "cv2.waitKey(0)\n",
    "cv2.destroyAllWindows()"
   ]
  },
  {
   "cell_type": "markdown",
   "metadata": {},
   "source": [
    "## 輪郭抽出"
   ]
  },
  {
   "cell_type": "code",
   "execution_count": 3,
   "metadata": {},
   "outputs": [],
   "source": [
    "%reset -f\n",
    "import cv2\n",
    "\n"
   ]
  },
  {
   "cell_type": "markdown",
   "metadata": {},
   "source": [
    "### 二値化による輪郭抽出"
   ]
  },
  {
   "cell_type": "code",
   "execution_count": 6,
   "metadata": {},
   "outputs": [
    {
     "ename": "error",
     "evalue": "OpenCV(4.8.1) d:\\a\\opencv-python\\opencv-python\\opencv\\modules\\imgproc\\src\\color.simd_helpers.hpp:92: error: (-2:Unspecified error) in function '__cdecl cv::impl::`anonymous-namespace'::CvtHelper<struct cv::impl::`anonymous namespace'::Set<3,4,-1>,struct cv::impl::A0xd8611878::Set<1,-1,-1>,struct cv::impl::A0xd8611878::Set<0,2,5>,3>::CvtHelper(const class cv::_InputArray &,const class cv::_OutputArray &,int)'\n> Invalid number of channels in input image:\n>     'VScn::contains(scn)'\n> where\n>     'scn' is 1\n",
     "output_type": "error",
     "traceback": [
      "\u001b[1;31m---------------------------------------------------------------------------\u001b[0m",
      "\u001b[1;31merror\u001b[0m                                     Traceback (most recent call last)",
      "Cell \u001b[1;32mIn[6], line 1\u001b[0m\n\u001b[1;32m----> 1\u001b[0m gray \u001b[38;5;241m=\u001b[39m \u001b[43mcv2\u001b[49m\u001b[38;5;241;43m.\u001b[39;49m\u001b[43mcvtColor\u001b[49m\u001b[43m(\u001b[49m\u001b[43mimg\u001b[49m\u001b[43m,\u001b[49m\u001b[43m \u001b[49m\u001b[43mcv2\u001b[49m\u001b[38;5;241;43m.\u001b[39;49m\u001b[43mCOLOR_BGR2GRAY\u001b[49m\u001b[43m)\u001b[49m\n\u001b[0;32m      2\u001b[0m ret, thresh \u001b[38;5;241m=\u001b[39m cv2\u001b[38;5;241m.\u001b[39mthreshold(gray, \u001b[38;5;241m170\u001b[39m, \u001b[38;5;241m255\u001b[39m, cv2\u001b[38;5;241m.\u001b[39mTHRESH_BINARY)\n\u001b[0;32m      3\u001b[0m cv2\u001b[38;5;241m.\u001b[39mimshow(\u001b[38;5;124m\"\u001b[39m\u001b[38;5;124mthresh\u001b[39m\u001b[38;5;124m\"\u001b[39m, thresh)\n",
      "\u001b[1;31merror\u001b[0m: OpenCV(4.8.1) d:\\a\\opencv-python\\opencv-python\\opencv\\modules\\imgproc\\src\\color.simd_helpers.hpp:92: error: (-2:Unspecified error) in function '__cdecl cv::impl::`anonymous-namespace'::CvtHelper<struct cv::impl::`anonymous namespace'::Set<3,4,-1>,struct cv::impl::A0xd8611878::Set<1,-1,-1>,struct cv::impl::A0xd8611878::Set<0,2,5>,3>::CvtHelper(const class cv::_InputArray &,const class cv::_OutputArray &,int)'\n> Invalid number of channels in input image:\n>     'VScn::contains(scn)'\n> where\n>     'scn' is 1\n"
     ]
    }
   ],
   "source": [
    "gray = cv2.cvtColor(img, cv2.COLOR_BGR2GRAY)\n",
    "ret, thresh = cv2.threshold(gray, 170, 255, cv2.THRESH_BINARY)\n",
    "cv2.imshow(\"thresh\", thresh)\n",
    "\n",
    "contours, hirearchy = cv2.findContours(thresh, cv2.RETR_TREE, cv2.CHAIN_APPROX_SIMPLE)\n",
    "cv2.drawContours(img, contours, -1, (0, 0, 255), 3)\n",
    "cv2.imshow(\"img\", img)\n",
    "\n",
    "cv2.waitKey(0)\n",
    "cv2.destroyAllWindows()"
   ]
  },
  {
   "cell_type": "code",
   "execution_count": 7,
   "metadata": {},
   "outputs": [],
   "source": [
    "img = cv2.imread(\"image02/flower02.jpg\")"
   ]
  },
  {
   "cell_type": "markdown",
   "metadata": {},
   "source": [
    "### HSVブレーン"
   ]
  },
  {
   "cell_type": "code",
   "execution_count": 8,
   "metadata": {},
   "outputs": [],
   "source": [
    "hsv = cv2.cvtColor(img, cv2.COLOR_BGR2HSV)\n",
    "h, s, v = cv2.split(hsv)\n",
    "cv2.imshow(\"hsv\", hsv)\n",
    "cv2.imshow(\"h\", h)\n",
    "cv2.imshow(\"s\", s)\n",
    "cv2.imshow(\"v\", v)\n",
    "\n",
    "cv2.waitKey(0)\n",
    "cv2.destroyAllWindows()"
   ]
  },
  {
   "cell_type": "markdown",
   "metadata": {},
   "source": [
    "### トラックバー"
   ]
  },
  {
   "cell_type": "code",
   "execution_count": 9,
   "metadata": {},
   "outputs": [
    {
     "ename": "AttributeError",
     "evalue": "module 'cv2' has no attribute 'createTrackBar'",
     "output_type": "error",
     "traceback": [
      "\u001b[1;31m---------------------------------------------------------------------------\u001b[0m",
      "\u001b[1;31mAttributeError\u001b[0m                            Traceback (most recent call last)",
      "Cell \u001b[1;32mIn[9], line 5\u001b[0m\n\u001b[0;32m      2\u001b[0m     \u001b[38;5;28;01mpass\u001b[39;00m\n\u001b[0;32m      4\u001b[0m cv2\u001b[38;5;241m.\u001b[39mnamedWindow(\u001b[38;5;124m\"\u001b[39m\u001b[38;5;124mimg\u001b[39m\u001b[38;5;124m\"\u001b[39m, cv2\u001b[38;5;241m.\u001b[39mWINDOW_NORMAL)\n\u001b[1;32m----> 5\u001b[0m \u001b[43mcv2\u001b[49m\u001b[38;5;241;43m.\u001b[39;49m\u001b[43mcreateTrackBar\u001b[49m(\u001b[38;5;124m\"\u001b[39m\u001b[38;5;124mH-Low\u001b[39m\u001b[38;5;124m\"\u001b[39m, \u001b[38;5;124m'\u001b[39m\u001b[38;5;124mimg\u001b[39m\u001b[38;5;124m'\u001b[39m, \u001b[38;5;241m0\u001b[39m, \u001b[38;5;241m179\u001b[39m, nothing)\n\u001b[0;32m      6\u001b[0m cv2\u001b[38;5;241m.\u001b[39mcreateTrackBar(\u001b[38;5;124m\"\u001b[39m\u001b[38;5;124mS-Low\u001b[39m\u001b[38;5;124m\"\u001b[39m, \u001b[38;5;124m'\u001b[39m\u001b[38;5;124mimg\u001b[39m\u001b[38;5;124m'\u001b[39m, \u001b[38;5;241m0\u001b[39m, \u001b[38;5;241m255\u001b[39m, nothing)\n\u001b[0;32m      7\u001b[0m cv2\u001b[38;5;241m.\u001b[39mcreateTrackBar(\u001b[38;5;124m\"\u001b[39m\u001b[38;5;124mV-Low\u001b[39m\u001b[38;5;124m\"\u001b[39m, \u001b[38;5;124m'\u001b[39m\u001b[38;5;124mimg\u001b[39m\u001b[38;5;124m'\u001b[39m, \u001b[38;5;241m0\u001b[39m, \u001b[38;5;241m255\u001b[39m, nothing)\n",
      "\u001b[1;31mAttributeError\u001b[0m: module 'cv2' has no attribute 'createTrackBar'"
     ]
    },
    {
     "ename": "",
     "evalue": "",
     "output_type": "error",
     "traceback": [
      "\u001b[1;31m現在のセルまたは前のセルでコードを実行中に、カーネル (Kernel) がクラッシュしました。\n",
      "\u001b[1;31mエラーの原因を特定するには、セル内のコードを確認してください。\n",
      "\u001b[1;31m詳細については<a href='https://aka.ms/vscodeJupyterKernelCrash'>こちら</a>をクリックします。\n",
      "\u001b[1;31m詳細については、Jupyter <a href='command:jupyter.viewOutput'>ログ</a> を参照してください。"
     ]
    }
   ],
   "source": [
    "def nothing(x):\n",
    "    pass\n",
    "\n",
    "cv2.namedWindow(\"img\", cv2.WINDOW_NORMAL)\n",
    "cv2.createTrackBar(\"H-Low\", 'img', 0, 179, nothing)\n",
    "cv2.createTrackBar(\"S-Low\", 'img', 0, 255, nothing)\n",
    "cv2.createTrackBar(\"V-Low\", 'img', 0, 255, nothing)\n",
    "cv2.createTrackBar(\"H-Up\", 'img', 179, 179, nothing)\n",
    "cv2.createTrackBar(\"S-Up\", 'img', 255, 255, nothing)\n",
    "cv2.createTrackBar(\"V-Up\", 'img', 255, 255, nothing)\n",
    "\n",
    "while True:\n",
    "    if cv2.waitKey(1) & 0xFF == 27:\n",
    "        break\n",
    "\n",
    "    HL = cv2.getTrackbarPos(\"H-Low\", \"HSV\")\n",
    "    SL = cv2.getTrackbarPos(\"S-Low\", \"HSV\")\n",
    "    VL = cv2.getTrackbarPos(\"V-Low\", \"HSV\")\n",
    "    lower = (HL, SL, VL)\n",
    "    HU = cv2.getTrackbarPos(\"H-Up\", \"HSV\")\n",
    "    SU = cv2.getTrackbarPos(\"S-Up\", \"HSV\")\n",
    "    VU = cv2.getTrackbarPos(\"V-Up\", \"HSV\")\n",
    "    upper = (HU, SU, VU)\n",
    "    bin_img = cv2.inRange(hsv, lower, upper)\n",
    "    cv2.imshow(\"img\", bin_img)\n",
    "\n",
    "cv2.destroyAllWindows()"
   ]
  },
  {
   "cell_type": "markdown",
   "metadata": {},
   "source": [
    "### 色を考慮した輪郭抽出"
   ]
  },
  {
   "cell_type": "code",
   "execution_count": 1,
   "metadata": {},
   "outputs": [],
   "source": [
    "import cv2\n",
    "import numpy as np\n",
    "\n",
    "img = cv2.imread(\"image02/flower02.jpg\")\n",
    "cv2.imshow(\"img\", img)\n",
    "lower = np.array([95, 0, 0])\n",
    "upper = np.array([179, 255, 255])\n",
    "hsv = cv2.cvtColor(img, cv2.COLOR_BGR2HSV)\n",
    "cv2.imshow(\"hsv\", hsv)\n",
    "result = cv2.inRange(hsv, lower, upper)\n",
    "cv2.imshow(\"result\", result)\n",
    "kernel = np.ones((5,5), np.uint8)\n",
    "result = cv2.morphologyEx(result, cv2.MORPH_OPEN, kernel)\n",
    "cv2.imshow(\"result\", result)\n",
    "contours, hirearchy = cv2.findContours(result, cv2.RETR_TREE, cv2.CHAIN_APPROX_SIMPLE)\n",
    "cv2.drawContours(img, contours, -1, (0, 0, 255), 3)\n",
    "cv2.imshow(\"img\", img)\n",
    "\n",
    "cv2.waitKey(0)\n",
    "cv2.destroyAllWindows()"
   ]
  },
  {
   "cell_type": "markdown",
   "metadata": {},
   "source": [
    "### 輪郭を用いたマスク処理"
   ]
  },
  {
   "cell_type": "code",
   "execution_count": 3,
   "metadata": {},
   "outputs": [],
   "source": [
    "mask = np.zeros_like(img)\n",
    "cv2.drawContours(mask, contours, -1, (255, 255, 255), -1)\n",
    "cv2.imshow(\"mask\", mask)\n",
    "dst = cv2.bitwise_and(img, mask)\n",
    "cv2.imshow(\"dst\", dst)\n",
    "\n",
    "cv2.waitKey(0)\n",
    "cv2.destroyAllWindows()"
   ]
  }
 ],
 "metadata": {
  "kernelspec": {
   "display_name": ".env",
   "language": "python",
   "name": "python3"
  },
  "language_info": {
   "codemirror_mode": {
    "name": "ipython",
    "version": 3
   },
   "file_extension": ".py",
   "mimetype": "text/x-python",
   "name": "python",
   "nbconvert_exporter": "python",
   "pygments_lexer": "ipython3",
   "version": "3.11.6"
  }
 },
 "nbformat": 4,
 "nbformat_minor": 2
}
