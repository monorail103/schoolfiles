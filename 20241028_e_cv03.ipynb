{
 "cells": [
  {
   "cell_type": "code",
   "execution_count": 2,
   "metadata": {},
   "outputs": [],
   "source": [
    "import cv2\n",
    "import numpy as np\n",
    "import sys"
   ]
  },
  {
   "cell_type": "markdown",
   "metadata": {},
   "source": [
    "## 01"
   ]
  },
  {
   "cell_type": "code",
   "execution_count": null,
   "metadata": {},
   "outputs": [],
   "source": [
    "# TrackBarが使用不能"
   ]
  },
  {
   "cell_type": "markdown",
   "metadata": {},
   "source": [
    "## 02"
   ]
  },
  {
   "cell_type": "code",
   "execution_count": 4,
   "metadata": {},
   "outputs": [],
   "source": [
    "src = cv2.imread(\"img/Earth.bmp\")\n",
    "cv2.imshow(\"src\", src)\n",
    "gray = cv2.cvtColor(src, cv2.COLOR_BGR2GRAY)\n",
    "cv2.imshow(\"gray\", gray)\n",
    "dst_c = cv2.Canny(src, 80, 150)\n",
    "\n",
    "cv2.imshow(\"dst_\", dst_c)\n",
    "\n",
    "cv2.waitKey(0)\n",
    "cv2.destroyAllWindows()"
   ]
  },
  {
   "cell_type": "markdown",
   "metadata": {},
   "source": [
    "## 03"
   ]
  },
  {
   "cell_type": "code",
   "execution_count": 6,
   "metadata": {},
   "outputs": [
    {
     "name": "stdout",
     "output_type": "stream",
     "text": [
      "number of labels: 50\n",
      "number of labels: 50\n",
      "number of labels: 50\n",
      "number of labels: 50\n",
      "number of labels: 50\n"
     ]
    }
   ],
   "source": [
    "img = cv2.imread(\"image02/labeling.png\", 0)\n",
    "\n",
    "get_img = [5, 15, 25, 35, 45]\n",
    "\n",
    "for i in get_img:\n",
    "    ret, img_th = cv2.threshold(img, i, 255, cv2.THRESH_BINARY)\n",
    "    num_lab, img_lab = cv2.connectedComponents(img_th)\n",
    "\n",
    "    dst = cv2.compare(img_lab, i, cv2.CMP_EQ)\n",
    "    cv2.imshow(\"dst\", dst)\n",
    "    cv2.waitKey(0)\n",
    "\n",
    "cv2.destroyAllWindows()"
   ]
  },
  {
   "cell_type": "markdown",
   "metadata": {},
   "source": [
    "## 04"
   ]
  },
  {
   "cell_type": "code",
   "execution_count": 7,
   "metadata": {},
   "outputs": [],
   "source": [
    "import cv2\n",
    "import numpy as np\n",
    "\n",
    "img = cv2.imread(\"image02/flower02.jpg\")\n",
    "cv2.imshow(\"img\", img)\n",
    "lower = np.array([0, 0, 95])\n",
    "upper = np.array([255, 255, 179])\n",
    "hsv = cv2.cvtColor(img, cv2.COLOR_BGR2HSV)\n",
    "cv2.imshow(\"hsv\", hsv)\n",
    "result = cv2.inRange(hsv, lower, upper)\n",
    "cv2.imshow(\"result\", result)\n",
    "kernel = np.ones((5,5), np.uint8)\n",
    "result = cv2.morphologyEx(result, cv2.MORPH_OPEN, kernel)\n",
    "cv2.imshow(\"result\", result)\n",
    "contours, hirearchy = cv2.findContours(result, cv2.RETR_TREE, cv2.CHAIN_APPROX_SIMPLE)\n",
    "cv2.drawContours(img, contours, -1, (0, 0, 255), 3)\n",
    "cv2.imshow(\"img\", img)\n",
    "\n",
    "cv2.waitKey(0)\n",
    "cv2.destroyAllWindows()"
   ]
  }
 ],
 "metadata": {
  "kernelspec": {
   "display_name": ".env",
   "language": "python",
   "name": "python3"
  },
  "language_info": {
   "codemirror_mode": {
    "name": "ipython",
    "version": 3
   },
   "file_extension": ".py",
   "mimetype": "text/x-python",
   "name": "python",
   "nbconvert_exporter": "python",
   "pygments_lexer": "ipython3",
   "version": "3.11.6"
  }
 },
 "nbformat": 4,
 "nbformat_minor": 2
}
