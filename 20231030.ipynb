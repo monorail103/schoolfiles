{
 "cells": [
  {
   "cell_type": "code",
   "execution_count": 2,
   "metadata": {},
   "outputs": [
    {
     "name": "stdout",
     "output_type": "stream",
     "text": [
      "A B C | D\n",
      "------+--\n",
      "0 0 0 | 0\n",
      "0 0 1 | 1\n",
      "0 1 0 | 1\n",
      "0 1 1 | 2\n",
      "1 0 0 | 1\n",
      "1 0 1 | 2\n",
      "1 1 0 | 2\n",
      "1 1 1 | 3\n"
     ]
    }
   ],
   "source": [
    "%reset -f\n",
    "table=((0,0,0),(0,0,1),(0,1,0),(0,1,1),\n",
    "       (1,0,0),(1,0,1),(1,1,0),(1,1,1))\n",
    "print('A B C | D')\n",
    "print('------+--')\n",
    "\n",
    "for n1,n2,n3 in table:\n",
    "    print(f'{n1} {n2} {n3} | {n1+n2+n3}')"
   ]
  },
  {
   "cell_type": "code",
   "execution_count": 5,
   "metadata": {},
   "outputs": [
    {
     "name": "stdout",
     "output_type": "stream",
     "text": [
      "True\n",
      "False\n",
      "True\n"
     ]
    }
   ],
   "source": [
    "b1 = True\n",
    "b2 = False\n",
    "print(b1 or b2)\n",
    "print(b1 and b2)\n",
    "print(not b2)"
   ]
  },
  {
   "cell_type": "code",
   "execution_count": 8,
   "metadata": {},
   "outputs": [
    {
     "name": "stdout",
     "output_type": "stream",
     "text": [
      "A B | X\n",
      "----+--\n",
      "0 0 | 1\n",
      "0 1 | 1\n",
      "1 0 | 1\n",
      "1 1 | 1\n"
     ]
    }
   ],
   "source": [
    "inputs = ((False,False),(False,True),(True,False),(True,True))\n",
    "\n",
    "print(\"A B | X\")\n",
    "print('----+--')\n",
    "for A,B in inputs:\n",
    "    X = (not A or not B) or (A or B)\n",
    "    print(f'{int(A)} {int(B)} | {int(X)}')\n"
   ]
  },
  {
   "cell_type": "code",
   "execution_count": 9,
   "metadata": {},
   "outputs": [
    {
     "name": "stdout",
     "output_type": "stream",
     "text": [
      "Writing test-01.txt\n"
     ]
    }
   ],
   "source": [
    "%%writefile test-01.txt\n",
    "Name,ヨシヒコ\n",
    "Job,勇者\n",
    "Lv,21"
   ]
  },
  {
   "cell_type": "code",
   "execution_count": 10,
   "metadata": {},
   "outputs": [
    {
     "name": "stdout",
     "output_type": "stream",
     "text": [
      "<class 'list'>\n",
      "3\n",
      "['Name,ヨシヒコ\\n', 'Job,勇者\\n', 'Lv,21\\n']\n"
     ]
    }
   ],
   "source": [
    "%reset -f\n",
    "import os\n",
    "\n",
    "fn = '20231030/test-01.txt'\n",
    "\n",
    "if not os.path.isfile:\n",
    "    raise FileNotFoundError(f'{fn}は存在しません')\n",
    "with open(fn, encoding='utf-8') as file:\n",
    "    text = file.readlines()\n",
    "\n",
    "print(type(text))\n",
    "print(len(text))\n",
    "print(text)"
   ]
  },
  {
   "cell_type": "code",
   "execution_count": 14,
   "metadata": {},
   "outputs": [
    {
     "name": "stdout",
     "output_type": "stream",
     "text": [
      "----\n",
      "Name,ヨシヒコ\n",
      "\n",
      "\n",
      "----\n",
      "\n",
      "----\n",
      "Name,ヨシヒコ\n",
      "----\n"
     ]
    }
   ],
   "source": [
    "%reset -f\n",
    "t = 'Name,ヨシヒコ\\n\\n'\n",
    "\n",
    "# 末尾に改行を含む\n",
    "print('----')\n",
    "print(t)\n",
    "print('----')\n",
    "\n",
    "t = t.strip() # 末尾の改行を削除して、変数 t を上書き\n",
    "print()\n",
    "\n",
    "# 末尾の改行を取り除いたあと\n",
    "print('----')\n",
    "print(t)\n",
    "print('----')"
   ]
  },
  {
   "cell_type": "code",
   "execution_count": 15,
   "metadata": {},
   "outputs": [
    {
     "name": "stdout",
     "output_type": "stream",
     "text": [
      "type(tmp) => <class 'list'>\n",
      "len(tmp)  => 2\n",
      "\n",
      "tmp => ['Name', 'ヨシヒコ']\n",
      "tmp[0] => Name\n",
      "tmp[1] => ヨシヒコ\n"
     ]
    }
   ],
   "source": [
    "%reset -f\n",
    "t = 'Name,ヨシヒコ'\n",
    "\n",
    "tmp = t.split(',') # カンマで分割して文字列のリストに変換\n",
    "\n",
    "print(f'type(tmp) => {type(tmp)}')\n",
    "print(f'len(tmp)  => {len(tmp)}',end='\\n\\n')\n",
    "\n",
    "print(f'tmp => {tmp}')\n",
    "\n",
    "assert len(tmp) >= 2\n",
    "print(f'tmp[0] => {tmp[0]}')\n",
    "print(f'tmp[1] => {tmp[1]}')"
   ]
  },
  {
   "cell_type": "code",
   "execution_count": 17,
   "metadata": {},
   "outputs": [
    {
     "name": "stdout",
     "output_type": "stream",
     "text": [
      "data => {'Name': 'ヨシヒコ', 'Job': '勇者', 'Lv': '21', 'HP': '512', 'MP': '128'}\n",
      "data['Name'] => ヨシヒコ\n"
     ]
    }
   ],
   "source": [
    "%reset -f\n",
    "import os\n",
    "\n",
    "fn = '20231030/test-01.txt'\n",
    "if not os.path.isfile(fn):\n",
    "  raise FileNotFoundError(f'{fn} は存在しません。強制終了します。')\n",
    "\n",
    "with open(fn, encoding='utf_8') as file:\n",
    "  text = file.readlines()\n",
    "\n",
    "data = {} # 空の辞書を作成。data = dict() でも可\n",
    "for t in text:\n",
    "  t = t.strip()\n",
    "  tmp = t.split(',')\n",
    "  assert len(tmp) == 2\n",
    "  key = tmp[0]\n",
    "  value = tmp[1]\n",
    "  data[key]=value # 辞書に追加\n",
    "\n",
    "print(f'data => {data}')\n",
    "print(f\"data['Name'] => {data['Name']}\") # => ヨシヒコ"
   ]
  },
  {
   "cell_type": "code",
   "execution_count": 18,
   "metadata": {},
   "outputs": [
    {
     "name": "stdout",
     "output_type": "stream",
     "text": [
      "<class 'str'>\n",
      "<class 'int'>\n"
     ]
    }
   ],
   "source": [
    "print(type(data['Lv']))\n",
    "data['Lv'] = int(data['Lv'])\n",
    "print(type(data['Lv']))"
   ]
  },
  {
   "cell_type": "code",
   "execution_count": 21,
   "metadata": {},
   "outputs": [
    {
     "name": "stdout",
     "output_type": "stream",
     "text": [
      "Writing test-02.txt\n"
     ]
    }
   ],
   "source": [
    "%%writefile test-02.txt\n",
    " "
   ]
  },
  {
   "cell_type": "code",
   "execution_count": 23,
   "metadata": {},
   "outputs": [],
   "source": [
    "%reset -f\n",
    "fn = '20231030/file-02.txt'\n",
    "with open(fn,mode='w',encoding = 'utf-8' ) as file:\n",
    "    file.write('Name,メレブ\\n')\n",
    "    file.write('Job,賢者\\n')\n",
    "    file.write('Lv,19\\n')"
   ]
  },
  {
   "cell_type": "code",
   "execution_count": 35,
   "metadata": {},
   "outputs": [],
   "source": [
    "%reset -f\n",
    "import json\n",
    "\n",
    "# データの準備\n",
    "p1 = {'Name':'ヨシヒコ', 'Job':'勇者', 'Lv':21,\n",
    "      'BatStatus':['毒','呪い'],\n",
    "      'Items':[['銅のつるぎ',1],['薬草',4]]}\n",
    "p2 = {'Name':'メレブ', 'Job':'賢者', 'Lv':19,\n",
    "      'BatStatus':['混乱'],\n",
    "      'Items':[['聖なるナイフ',1],['いのりの指輪',2],['毒消し草',3]]}\n",
    "data = [p1,p2]\n",
    "\n",
    "# JSON形式にシリアライズしてテキストファイルとして保存\n",
    "fn = '20231030/test-03_2.json'\n",
    "with open(fn, mode='w', encoding='utf_8') as file:\n",
    "  json.dump(data, file, ensure_ascii=False,indent = 4)"
   ]
  },
  {
   "cell_type": "code",
   "execution_count": 29,
   "metadata": {},
   "outputs": [
    {
     "name": "stdout",
     "output_type": "stream",
     "text": [
      "勇者 ヨシヒコ は \n",
      "「銅のつるぎ」を 1個\n",
      "「薬草」を 4個\n",
      "所持しています。\n"
     ]
    }
   ],
   "source": [
    "%reset -f\n",
    "import os\n",
    "import json\n",
    "\n",
    "# ファイルの存在チェック\n",
    "fn = '20231030/test-03.json'\n",
    "if not os.path.isfile(fn):\n",
    "  raise FileNotFoundError(f'{fn} は存在しません。強制終了します。')\n",
    "\n",
    "# JSON形式のファイルからデシリアライズ\n",
    "with open(fn, encoding='utf_8') as file:\n",
    "  data = json.load(file)\n",
    "user = 0\n",
    "# print(data)\n",
    "print(f\"{ data[user]['Job'] } { data[user]['Name'] } は \")\n",
    "for name, count in data[user]['Items'] :\n",
    "  print(f'「{name}」を {count}個')\n",
    "print('所持しています。')"
   ]
  },
  {
   "cell_type": "code",
   "execution_count": 34,
   "metadata": {},
   "outputs": [
    {
     "name": "stdout",
     "output_type": "stream",
     "text": [
      "<class 'numpy.ndarray'>\n"
     ]
    }
   ],
   "source": [
    "%reset -f\n",
    "import numpy as np\n",
    "import pickle\n",
    "\n",
    "# データの準備\n",
    "a1 = np.array([[2,3,4],[5,6,7]])\n",
    "a2 = np.array([[9,8,7],[6,5,4]])\n",
    "print(type(a1)) # => <class 'numpy.ndarray'>\n",
    "data = {'A':a1, 'B':a2 }\n",
    "\n",
    "# シリアライズ\n",
    "fn = '20231030/test-05.pickle'\n",
    "with open(fn, mode='wb') as file:\n",
    "  pickle.dump(data, file)"
   ]
  },
  {
   "cell_type": "code",
   "execution_count": 33,
   "metadata": {},
   "outputs": [
    {
     "name": "stdout",
     "output_type": "stream",
     "text": [
      "<class 'numpy.ndarray'>\n",
      "[[9 8 7]\n",
      " [6 5 4]]\n"
     ]
    }
   ],
   "source": [
    "%reset -f\n",
    "import numpy as np\n",
    "import pickle\n",
    "\n",
    "# デシリアライズ\n",
    "fn = 'test-05.pickle'\n",
    "with open(fn,'rb') as file:\n",
    "  data = pickle.load(file)\n",
    "\n",
    "print(type(data['B'])) # => <class 'numpy.ndarray'>\n",
    "print(data['B'])"
   ]
  },
  {
   "cell_type": "code",
   "execution_count": 36,
   "metadata": {},
   "outputs": [
    {
     "name": "stdout",
     "output_type": "stream",
     "text": [
      "{<class 'pandas.core.frame.DataFrame'>}\n"
     ]
    },
    {
     "data": {
      "text/html": [
       "<div>\n",
       "<style scoped>\n",
       "    .dataframe tbody tr th:only-of-type {\n",
       "        vertical-align: middle;\n",
       "    }\n",
       "\n",
       "    .dataframe tbody tr th {\n",
       "        vertical-align: top;\n",
       "    }\n",
       "\n",
       "    .dataframe thead th {\n",
       "        text-align: right;\n",
       "    }\n",
       "</style>\n",
       "<table border=\"1\" class=\"dataframe\">\n",
       "  <thead>\n",
       "    <tr style=\"text-align: right;\">\n",
       "      <th></th>\n",
       "      <th>created</th>\n",
       "      <th>current (mA)</th>\n",
       "    </tr>\n",
       "  </thead>\n",
       "  <tbody>\n",
       "    <tr>\n",
       "      <th>0</th>\n",
       "      <td>2023/9/23 10:30:00.138</td>\n",
       "      <td>1.835938</td>\n",
       "    </tr>\n",
       "    <tr>\n",
       "      <th>1</th>\n",
       "      <td>2023/9/23 10:30:30.75</td>\n",
       "      <td>1.953125</td>\n",
       "    </tr>\n",
       "    <tr>\n",
       "      <th>2</th>\n",
       "      <td>2023/9/23 10:31:03.656</td>\n",
       "      <td>1.796875</td>\n",
       "    </tr>\n",
       "    <tr>\n",
       "      <th>3</th>\n",
       "      <td>2023/9/23 10:31:50.695</td>\n",
       "      <td>3.632812</td>\n",
       "    </tr>\n",
       "    <tr>\n",
       "      <th>4</th>\n",
       "      <td>2023/9/23 10:32:20.137</td>\n",
       "      <td>3.710938</td>\n",
       "    </tr>\n",
       "    <tr>\n",
       "      <th>5</th>\n",
       "      <td>2023/9/23 10:32:50.59</td>\n",
       "      <td>3.671875</td>\n",
       "    </tr>\n",
       "    <tr>\n",
       "      <th>6</th>\n",
       "      <td>2023/9/23 10:33:21.470</td>\n",
       "      <td>3.710938</td>\n",
       "    </tr>\n",
       "    <tr>\n",
       "      <th>7</th>\n",
       "      <td>2023/9/23 10:33:51.744</td>\n",
       "      <td>3.476562</td>\n",
       "    </tr>\n",
       "    <tr>\n",
       "      <th>8</th>\n",
       "      <td>2023/9/23 10:34:21.533</td>\n",
       "      <td>3.671875</td>\n",
       "    </tr>\n",
       "    <tr>\n",
       "      <th>9</th>\n",
       "      <td>2023/9/23 10:34:58.539</td>\n",
       "      <td>5.429688</td>\n",
       "    </tr>\n",
       "    <tr>\n",
       "      <th>10</th>\n",
       "      <td>2023/9/23 10:35:27.895</td>\n",
       "      <td>5.273438</td>\n",
       "    </tr>\n",
       "    <tr>\n",
       "      <th>11</th>\n",
       "      <td>2023/9/23 10:35:58.61</td>\n",
       "      <td>5.429688</td>\n",
       "    </tr>\n",
       "    <tr>\n",
       "      <th>12</th>\n",
       "      <td>2023/9/23 10:36:28.479</td>\n",
       "      <td>5.468750</td>\n",
       "    </tr>\n",
       "    <tr>\n",
       "      <th>13</th>\n",
       "      <td>2023/9/23 10:36:57.977</td>\n",
       "      <td>5.507812</td>\n",
       "    </tr>\n",
       "    <tr>\n",
       "      <th>14</th>\n",
       "      <td>2023/9/23 10:37:28.19</td>\n",
       "      <td>5.078125</td>\n",
       "    </tr>\n",
       "    <tr>\n",
       "      <th>15</th>\n",
       "      <td>2023/9/23 10:38:12.777</td>\n",
       "      <td>4.062500</td>\n",
       "    </tr>\n",
       "    <tr>\n",
       "      <th>16</th>\n",
       "      <td>2023/9/23 10:38:42.173</td>\n",
       "      <td>4.140625</td>\n",
       "    </tr>\n",
       "    <tr>\n",
       "      <th>17</th>\n",
       "      <td>2023/9/23 10:39:12.312</td>\n",
       "      <td>4.101562</td>\n",
       "    </tr>\n",
       "    <tr>\n",
       "      <th>18</th>\n",
       "      <td>2023/9/23 10:39:42.341</td>\n",
       "      <td>3.984375</td>\n",
       "    </tr>\n",
       "  </tbody>\n",
       "</table>\n",
       "</div>"
      ],
      "text/plain": [
       "                   created  current (mA)\n",
       "0   2023/9/23 10:30:00.138      1.835938\n",
       "1    2023/9/23 10:30:30.75      1.953125\n",
       "2   2023/9/23 10:31:03.656      1.796875\n",
       "3   2023/9/23 10:31:50.695      3.632812\n",
       "4   2023/9/23 10:32:20.137      3.710938\n",
       "5    2023/9/23 10:32:50.59      3.671875\n",
       "6   2023/9/23 10:33:21.470      3.710938\n",
       "7   2023/9/23 10:33:51.744      3.476562\n",
       "8   2023/9/23 10:34:21.533      3.671875\n",
       "9   2023/9/23 10:34:58.539      5.429688\n",
       "10  2023/9/23 10:35:27.895      5.273438\n",
       "11   2023/9/23 10:35:58.61      5.429688\n",
       "12  2023/9/23 10:36:28.479      5.468750\n",
       "13  2023/9/23 10:36:57.977      5.507812\n",
       "14   2023/9/23 10:37:28.19      5.078125\n",
       "15  2023/9/23 10:38:12.777      4.062500\n",
       "16  2023/9/23 10:38:42.173      4.140625\n",
       "17  2023/9/23 10:39:12.312      4.101562\n",
       "18  2023/9/23 10:39:42.341      3.984375"
      ]
     },
     "metadata": {},
     "output_type": "display_data"
    }
   ],
   "source": [
    "%reset -f\n",
    "import os\n",
    "import pandas as pd\n",
    "\n",
    "fn = '20231030/1030.csv'\n",
    "assert os.path.isfile(fn)  # ファイルの存在チェック\n",
    "\n",
    "df = pd.read_csv(fn) # CSVファイルを読込み、変数dfに格納\n",
    "print({type(df)})    # => <class 'pandas.core.frame.DataFrame'>\n",
    "\n",
    "display(df) # DataFrame型の変数dfの内容を整形出"
   ]
  },
  {
   "cell_type": "code",
   "execution_count": 37,
   "metadata": {},
   "outputs": [
    {
     "data": {
      "image/png": "[encoded data removed]",
      "text/plain": [
       "<Figure size 768x576 with 1 Axes>"
      ]
     },
     "metadata": {},
     "output_type": "display_data"
    }
   ],
   "source": [
    "%reset -f\n",
    "import os\n",
    "import matplotlib.pyplot as plt\n",
    "import pandas as pd\n",
    "\n",
    "fn = '20231030/1030.csv'\n",
    "df = pd.read_csv(fn)\n",
    "\n",
    "x = df['created']\n",
    "y = df['current (mA)']\n",
    "\n",
    "fig,ax = plt.subplots(dpi=120)\n",
    "ax.plot(x,y,marker='o')\n",
    "plt.show()"
   ]
  }
 ],
 "metadata": {
  "kernelspec": {
   "display_name": ".env",
   "language": "python",
   "name": "python3"
  },
  "language_info": {
   "codemirror_mode": {
    "name": "ipython",
    "version": 3
   },
   "file_extension": ".py",
   "mimetype": "text/x-python",
   "name": "python",
   "nbconvert_exporter": "python",
   "pygments_lexer": "ipython3",
   "version": "3.11.0"
  }
 },
 "nbformat": 4,
 "nbformat_minor": 2
}
